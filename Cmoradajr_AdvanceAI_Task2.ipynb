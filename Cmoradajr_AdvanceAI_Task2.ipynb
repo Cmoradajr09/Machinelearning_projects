{
 "cells": [
  {
   "cell_type": "code",
   "execution_count": 21,
   "id": "45f2061b",
   "metadata": {},
   "outputs": [],
   "source": [
    "#import necessary packages/libraries\n",
    "\n",
    "import pandas as pd\n",
    "import numpy as np\n",
    "import matplotlib.pyplot as plt \n",
    "from sklearn.metrics import accuracy_score, confusion_matrix\n",
    "import re, string\n",
    "from textblob import TextBlob"
   ]
  },
  {
   "cell_type": "code",
   "execution_count": 2,
   "id": "b6649399",
   "metadata": {},
   "outputs": [
    {
     "data": {
      "text/html": [
       "<div>\n",
       "<style scoped>\n",
       "    .dataframe tbody tr th:only-of-type {\n",
       "        vertical-align: middle;\n",
       "    }\n",
       "\n",
       "    .dataframe tbody tr th {\n",
       "        vertical-align: top;\n",
       "    }\n",
       "\n",
       "    .dataframe thead th {\n",
       "        text-align: right;\n",
       "    }\n",
       "</style>\n",
       "<table border=\"1\" class=\"dataframe\">\n",
       "  <thead>\n",
       "    <tr style=\"text-align: right;\">\n",
       "      <th></th>\n",
       "      <th>tweet_id</th>\n",
       "      <th>company</th>\n",
       "      <th>tweet_text</th>\n",
       "      <th>sentiment</th>\n",
       "    </tr>\n",
       "  </thead>\n",
       "  <tbody>\n",
       "    <tr>\n",
       "      <th>0</th>\n",
       "      <td>1</td>\n",
       "      <td>Apple</td>\n",
       "      <td>Apple's performance is top-notch. Kudos to the...</td>\n",
       "      <td>positive</td>\n",
       "    </tr>\n",
       "    <tr>\n",
       "      <th>1</th>\n",
       "      <td>2</td>\n",
       "      <td>Google</td>\n",
       "      <td>Great customer service from Google. Totally sa...</td>\n",
       "      <td>positive</td>\n",
       "    </tr>\n",
       "    <tr>\n",
       "      <th>2</th>\n",
       "      <td>3</td>\n",
       "      <td>Apple</td>\n",
       "      <td>Still exploring Apple. Too early to judge.</td>\n",
       "      <td>neutral</td>\n",
       "    </tr>\n",
       "    <tr>\n",
       "      <th>3</th>\n",
       "      <td>4</td>\n",
       "      <td>Apple</td>\n",
       "      <td>Tried out Apple. Mixed feelings about it.</td>\n",
       "      <td>neutral</td>\n",
       "    </tr>\n",
       "    <tr>\n",
       "      <th>4</th>\n",
       "      <td>5</td>\n",
       "      <td>Apple</td>\n",
       "      <td>The new Apple update is amazing! Loving the fe...</td>\n",
       "      <td>positive</td>\n",
       "    </tr>\n",
       "  </tbody>\n",
       "</table>\n",
       "</div>"
      ],
      "text/plain": [
       "   tweet_id  ... sentiment\n",
       "0         1  ...  positive\n",
       "1         2  ...  positive\n",
       "2         3  ...   neutral\n",
       "3         4  ...   neutral\n",
       "4         5  ...  positive\n",
       "\n",
       "[5 rows x 4 columns]"
      ]
     },
     "execution_count": 2,
     "metadata": {},
     "output_type": "execute_result"
    }
   ],
   "source": [
    "#loading the dataset\n",
    "data = pd.read_csv(\"/Users/cmoradajr/Downloads/tech_tweets.csv\")\n",
    "data.head()"
   ]
  },
  {
   "cell_type": "code",
   "execution_count": 6,
   "id": "0ff5515d",
   "metadata": {},
   "outputs": [
    {
     "name": "stdout",
     "output_type": "stream",
     "text": [
      "<class 'pandas.core.frame.DataFrame'>\n",
      "RangeIndex: 5000 entries, 0 to 4999\n",
      "Data columns (total 4 columns):\n",
      " #   Column      Non-Null Count  Dtype \n",
      "---  ------      --------------  ----- \n",
      " 0   tweet_id    5000 non-null   int64 \n",
      " 1   company     5000 non-null   object\n",
      " 2   tweet_text  5000 non-null   object\n",
      " 3   sentiment   5000 non-null   object\n",
      "dtypes: int64(1), object(3)\n",
      "memory usage: 156.4+ KB\n"
     ]
    }
   ],
   "source": [
    "data.info()"
   ]
  },
  {
   "cell_type": "code",
   "execution_count": 8,
   "id": "75787029",
   "metadata": {},
   "outputs": [],
   "source": [
    "#clean the tweets: convert to lowercase, remove mentions, hashtags, URLs, punctuation\n",
    "\n",
    "def clean_tweet(text: str) -> str:\n",
    "    text = text.lower()\n",
    "    text = re.sub(r\"@[A-Za-z0-9_]+\", \"\", text)                # mentions\n",
    "    text = re.sub(r\"#\\w+\", \"\", text)                          # hashtags\n",
    "    text = re.sub(r\"http\\S+|www\\.\\S+\", \"\", text)              # urls\n",
    "    text = text.translate(str.maketrans(\"\", \"\", string.punctuation))  # punctuation\n",
    "    text = re.sub(r\"\\s+\", \" \", text).strip()\n",
    "    return text\n",
    "\n",
    "data[\"cleaned_tweet\"] = data[\"tweet_text\"].apply(clean_tweet)\n"
   ]
  },
  {
   "cell_type": "code",
   "execution_count": 10,
   "id": "0e396c77",
   "metadata": {},
   "outputs": [
    {
     "name": "stdout",
     "output_type": "stream",
     "text": [
      "\n",
      "2) Rule-Based Sentiment — preview:\n",
      "   tweet_id  ...  tb_label\n",
      "0         1  ...   neutral\n",
      "1         2  ...  positive\n",
      "2         3  ...  positive\n",
      "3         4  ...   neutral\n",
      "4         5  ...  positive\n",
      "5         6  ...  positive\n",
      "6         7  ...  positive\n",
      "7         8  ...  positive\n",
      "8         9  ...  positive\n",
      "9        10  ...  negative\n",
      "\n",
      "[10 rows x 4 columns]\n"
     ]
    }
   ],
   "source": [
    "#setinment analysis with rule based tools\n",
    "\n",
    "def textblob_sentiment(text: str):\n",
    "    polarity = TextBlob(text).sentiment.polarity\n",
    "    if polarity > 0:\n",
    "        label = \"positive\"\n",
    "    elif polarity < 0:\n",
    "        label = \"negative\"\n",
    "    else:\n",
    "        label = \"neutral\"\n",
    "    return polarity, label\n",
    "\n",
    "data[[\"tb_polarity\", \"tb_label\"]] = data[\"cleaned_tweet\"].apply(\n",
    "    lambda x: pd.Series(textblob_sentiment(x))\n",
    ")\n",
    "\n",
    "print(\"\\n2) Rule-Based Sentiment — preview:\")\n",
    "print(data[[\"tweet_id\", \"cleaned_tweet\", \"tb_polarity\", \"tb_label\"]].head(10))"
   ]
  },
  {
   "cell_type": "code",
   "execution_count": 23,
   "id": "eecac5c1",
   "metadata": {},
   "outputs": [
    {
     "name": "stdout",
     "output_type": "stream",
     "text": [
      "\n",
      "3) Evaluation — Accuracy: 0.6008\n",
      "Confusion Matrix (rows=Actual, cols=Predicted):\n",
      " [[1338    0  346]\n",
      " [   0 1315  335]\n",
      " [ 971  344  351]]\n"
     ]
    },
    {
     "data": {
      "image/png": "[encoded data removed]",
      "text/plain": [
       "<Figure size 600x400 with 2 Axes>"
      ]
     },
     "metadata": {},
     "output_type": "display_data"
    }
   ],
   "source": [
    "#compare with ground truth labels\n",
    "\n",
    "labels = [\"positive\", \"negative\", \"neutral\"]\n",
    "\n",
    "tb_accuracy = accuracy_score(data[\"sentiment\"], data[\"tb_label\"])\n",
    "tb_cm = confusion_matrix(data[\"sentiment\"], data[\"tb_label\"], labels=labels)\n",
    "\n",
    "print(f\"\\n3) Evaluation — Accuracy: {tb_accuracy:.4f}\")\n",
    "print(\"Confusion Matrix (rows=Actual, cols=Predicted):\\n\", tb_cm)\n",
    "\n",
    "# Plot confusion matrix (no annotation loop; just imshow + ticks)\n",
    "fig, ax = plt.subplots(figsize=(6, 4))\n",
    "im = ax.imshow(tb_cm)  # default colormap, no style set\n",
    "ax.set_title(\"Confusion Matrix — TextBlob\")\n",
    "ax.set_xlabel(\"Predicted\")\n",
    "ax.set_ylabel(\"Actual\")\n",
    "ax.set_xticks(np.arange(len(labels)))\n",
    "ax.set_yticks(np.arange(len(labels)))\n",
    "ax.set_xticklabels(labels, rotation=45, ha=\"right\")\n",
    "ax.set_yticklabels(labels)\n",
    "fig.colorbar(im, ax=ax)\n",
    "fig.tight_layout()\n",
    "plt.show()"
   ]
  },
  {
   "cell_type": "code",
   "execution_count": 36,
   "id": "be03591c",
   "metadata": {},
   "outputs": [
    {
     "name": "stdout",
     "output_type": "stream",
     "text": [
      "\n",
      "4) Misclassified Examples (first 12):\n",
      " tweet_id   company                                           tweet_text sentiment tb_label  tb_polarity\n",
      "        1     Apple Apple's performance is top-notch. Kudos to the team!  positive  neutral     0.000000\n",
      "        3     Apple           Still exploring Apple. Too early to judge.   neutral positive     0.100000\n",
      "        8    Google          Still exploring Google. Too early to judge.   neutral positive     0.100000\n",
      "       15    Amazon       Amazon update broke everything. Please fix it!  negative  neutral     0.000000\n",
      "       18     Apple            Not good, not bad. Apple is just average.   neutral negative    -0.050000\n",
      "       19      Meta         Meta update broke everything. Please fix it!  negative  neutral     0.000000\n",
      "       20    Google     I used Google today. It's okay, nothing special.   neutral positive     0.428571\n",
      "       21     Apple              Apple works fine, just the usual stuff.   neutral positive     0.083333\n",
      "       24 Microsoft        Not good, not bad. Microsoft is just average.   neutral negative    -0.050000\n",
      "       26    Google           Not good, not bad. Google is just average.   neutral negative    -0.050000\n",
      "       27     Apple              Apple works fine, just the usual stuff.   neutral positive     0.083333\n",
      "       28      Meta               Meta works fine, just the usual stuff.   neutral positive     0.083333\n",
      "Common-Issue Heuristics (rough counts):\n",
      "                     count\n",
      "possible_sarcasm       321\n",
      "possible_mixed         344\n",
      "neutrality_conflict   1996\n"
     ]
    }
   ],
   "source": [
    "#interpretation and reflection \n",
    "\n",
    "wrong = data.loc[data[\"sentiment\"] != data[\"tb_label\"],\n",
    "               [\"tweet_id\", \"company\", \"tweet_text\", \"sentiment\", \"tb_label\", \"tb_polarity\"]]\n",
    "wrong_sample = wrong.head(12)\n",
    "\n",
    "print(\"\\n4) Misclassified Examples (first 12):\")\n",
    "print(wrong_sample.to_string(index=False))\n",
    "\n",
    "# Simple issue flags (vectorised, no loops)\n",
    "sarcasm_markers = [\"yeah right\", \"sure\", \"totally\", \"great...\", \"/s\", \"as if\"]\n",
    "sarcasm_regex = r\"|\".join([re.escape(s) for s in sarcasm_markers])\n",
    "\n",
    "sarcasm_flag = data[\"cleaned_tweet\"].str.contains(sarcasm_regex, regex=True, na=False)\n",
    "\n",
    "pos_words = [\"good\", \"great\", \"amazing\", \"love\", \"happy\", \"best\"]\n",
    "neg_words = [\"bad\", \"terrible\", \"hate\", \"worst\", \"awful\", \"disappoint\"]\n",
    "pos_regex = r\"|\".join([rf\"\\b{re.escape(w)}\\b\" for w in pos_words])\n",
    "neg_regex = r\"|\".join([rf\"\\b{re.escape(w)}\\b\" for w in neg_words])\n",
    "\n",
    "has_pos = data[\"cleaned_tweet\"].str.contains(pos_regex, regex=True, na=False)\n",
    "has_neg = data[\"cleaned_tweet\"].str.contains(neg_regex, regex=True, na=False)\n",
    "mixed_sentiment_flag = has_pos & has_neg\n",
    "\n",
    "near_zero = data[\"tb_polarity\"].abs() < 0.05\n",
    "neutrality_conflict = (near_zero & (data[\"sentiment\"] != \"neutral\")) | ((~near_zero) & (data[\"sentiment\"] == \"neutral\"))\n",
    "\n",
    "issue_summary = pd.DataFrame(\n",
    "    {\n",
    "        \"possible_sarcasm\": [sarcasm_flag.sum()],\n",
    "        \"possible_mixed\": [mixed_sentiment_flag.sum()],\n",
    "        \"neutrality_conflict\": [neutrality_conflict.sum()],\n",
    "    }\n",
    ").T\n",
    "issue_summary.columns = [\"count\"]\n",
    "\n",
    "print(\"Common-Issue Heuristics (rough counts):\")\n",
    "print(issue_summary.to_string())\n",
    "\n"
   ]
  },
  {
   "cell_type": "code",
   "execution_count": 41,
   "id": "ff4d8816",
   "metadata": {},
   "outputs": [
    {
     "name": "stdout",
     "output_type": "stream",
     "text": [
      "- Overall performance: Accuracy: 60.1%.\n"
     ]
    }
   ],
   "source": [
    "print(f\"- Overall performance: Accuracy: {tb_accuracy:.1%}.\")"
   ]
  },
  {
   "cell_type": "code",
   "execution_count": null,
   "id": "503bae2d",
   "metadata": {},
   "outputs": [],
   "source": [
    "#Questions:\n",
    "\n",
    "#1. Overall performance: Accuracy 60.1%. Good on clear positives; weaker on neutral/nuanced text.\n",
    "#2. Wrongly predicted tweets: see the table above.\n",
    "#3. Common issues: sarcasm/irony, mixed sentiment in one tweet, and slight-positive wording tagged as neutral (or vice versa).\n",
    "#4. Prefer rule-based methods when you need speed, zero training data, or a quick baseline; prefer ML for nuance/context and higher accuracy."
   ]
  },
  {
   "cell_type": "code",
   "execution_count": null,
   "id": "d89e3a36",
   "metadata": {},
   "outputs": [],
   "source": [
    "#How do rule based sentiments tools like TextBlob and Vader work?\n",
    "#Rule based tools use predefined lexicons of words with associated sentiment scores (positive, negative, neutral). When you input text, they look up these words in the lexicon, add up or average the scores, and apply simple rules (e.g., negation handling, intensifiers). TextBlob uses a polarity scale from -1 (negative) to +1 (positive), while VADER uses tuned for social media text and uses special weights for things like capitalization, punctuation, and degree modifiers (e.g., \"very\", \"extremely\").\n",
    "\n",
    "#What are the limitations of rule-based sentiment analysis?\n",
    "#The main limitation is that they can't understand context, sarcasm, or nuanced language. They rely on fixed word lists and simple rules, so they may misinterpret phrases where sentiment depends on context (e.g., \"I love waiting in long lines\" is sarcastic). They also struggle with mixed sentiments in one text and may not adapt well to new slang or evolving language use. Overall, they tend to be less accurate than machine learning approaches that can learn from data."
   ]
  }
 ],
 "metadata": {
  "kernelspec": {
   "display_name": "Python 3",
   "language": "python",
   "name": "python3"
  },
  "language_info": {
   "codemirror_mode": {
    "name": "ipython",
    "version": 3
   },
   "file_extension": ".py",
   "mimetype": "text/x-python",
   "name": "python",
   "nbconvert_exporter": "python",
   "pygments_lexer": "ipython3",
   "version": "3.13.5"
  }
 },
 "nbformat": 4,
 "nbformat_minor": 5
}
