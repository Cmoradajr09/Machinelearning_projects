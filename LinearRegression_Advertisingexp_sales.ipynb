{
 "cells": [
  {
   "cell_type": "code",
   "execution_count": 12,
   "id": "1cf6ad5e-2c08-421d-bd5e-8cd455cf3044",
   "metadata": {},
   "outputs": [],
   "source": [
    "#importing the required packages\n",
    "import pandas as pd\n",
    "import numpy as np\n",
    "import matplotlib.pyplot as plt\n",
    "import statsmodels.api as sm\n",
    "import seaborn as sns\n",
    "from sklearn.model_selection import train_test_split"
   ]
  },
  {
   "cell_type": "code",
   "execution_count": 4,
   "id": "cd7db779-00e7-45a6-9881-ced02db96b2f",
   "metadata": {},
   "outputs": [
    {
     "data": {
      "text/html": [
       "<div>\n",
       "<style scoped>\n",
       "    .dataframe tbody tr th:only-of-type {\n",
       "        vertical-align: middle;\n",
       "    }\n",
       "\n",
       "    .dataframe tbody tr th {\n",
       "        vertical-align: top;\n",
       "    }\n",
       "\n",
       "    .dataframe thead th {\n",
       "        text-align: right;\n",
       "    }\n",
       "</style>\n",
       "<table border=\"1\" class=\"dataframe\">\n",
       "  <thead>\n",
       "    <tr style=\"text-align: right;\">\n",
       "      <th></th>\n",
       "      <th>Year</th>\n",
       "      <th>Advertising_Expenditure</th>\n",
       "      <th>Sales</th>\n",
       "    </tr>\n",
       "  </thead>\n",
       "  <tbody>\n",
       "    <tr>\n",
       "      <th>0</th>\n",
       "      <td>2019</td>\n",
       "      <td>162727</td>\n",
       "      <td>518248.9838</td>\n",
       "    </tr>\n",
       "    <tr>\n",
       "      <th>1</th>\n",
       "      <td>2018</td>\n",
       "      <td>137498</td>\n",
       "      <td>474420.4726</td>\n",
       "    </tr>\n",
       "    <tr>\n",
       "      <th>2</th>\n",
       "      <td>2017</td>\n",
       "      <td>187337</td>\n",
       "      <td>683338.4369</td>\n",
       "    </tr>\n",
       "    <tr>\n",
       "      <th>3</th>\n",
       "      <td>2016</td>\n",
       "      <td>104886</td>\n",
       "      <td>272485.6816</td>\n",
       "    </tr>\n",
       "    <tr>\n",
       "      <th>4</th>\n",
       "      <td>2015</td>\n",
       "      <td>160268</td>\n",
       "      <td>563836.9656</td>\n",
       "    </tr>\n",
       "  </tbody>\n",
       "</table>\n",
       "</div>"
      ],
      "text/plain": [
       "   Year  Advertising_Expenditure        Sales\n",
       "0  2019                   162727  518248.9838\n",
       "1  2018                   137498  474420.4726\n",
       "2  2017                   187337  683338.4369\n",
       "3  2016                   104886  272485.6816\n",
       "4  2015                   160268  563836.9656"
      ]
     },
     "execution_count": 4,
     "metadata": {},
     "output_type": "execute_result"
    }
   ],
   "source": [
    "#importing the dataset\n",
    "\n",
    "data = pd.read_csv('advertising_sales_data.csv')\n",
    "data.head(5)"
   ]
  },
  {
   "cell_type": "code",
   "execution_count": 5,
   "id": "ef8144b3-37b3-450f-9924-6318e8d76220",
   "metadata": {},
   "outputs": [
    {
     "name": "stdout",
     "output_type": "stream",
     "text": [
      "Descriptive Statistis:\n"
     ]
    },
    {
     "data": {
      "text/html": [
       "<div>\n",
       "<style scoped>\n",
       "    .dataframe tbody tr th:only-of-type {\n",
       "        vertical-align: middle;\n",
       "    }\n",
       "\n",
       "    .dataframe tbody tr th {\n",
       "        vertical-align: top;\n",
       "    }\n",
       "\n",
       "    .dataframe thead th {\n",
       "        text-align: right;\n",
       "    }\n",
       "</style>\n",
       "<table border=\"1\" class=\"dataframe\">\n",
       "  <thead>\n",
       "    <tr style=\"text-align: right;\">\n",
       "      <th></th>\n",
       "      <th>Year</th>\n",
       "      <th>Advertising_Expenditure</th>\n",
       "      <th>Sales</th>\n",
       "    </tr>\n",
       "  </thead>\n",
       "  <tbody>\n",
       "    <tr>\n",
       "      <th>count</th>\n",
       "      <td>10.00000</td>\n",
       "      <td>10.000000</td>\n",
       "      <td>10.000000</td>\n",
       "    </tr>\n",
       "    <tr>\n",
       "      <th>mean</th>\n",
       "      <td>2014.50000</td>\n",
       "      <td>162704.600000</td>\n",
       "      <td>518031.216000</td>\n",
       "    </tr>\n",
       "    <tr>\n",
       "      <th>std</th>\n",
       "      <td>3.02765</td>\n",
       "      <td>26554.151516</td>\n",
       "      <td>112669.263875</td>\n",
       "    </tr>\n",
       "    <tr>\n",
       "      <th>min</th>\n",
       "      <td>2010.00000</td>\n",
       "      <td>104886.000000</td>\n",
       "      <td>272485.681600</td>\n",
       "    </tr>\n",
       "    <tr>\n",
       "      <th>25%</th>\n",
       "      <td>2012.25000</td>\n",
       "      <td>155337.500000</td>\n",
       "      <td>481734.070800</td>\n",
       "    </tr>\n",
       "    <tr>\n",
       "      <th>50%</th>\n",
       "      <td>2014.50000</td>\n",
       "      <td>166303.000000</td>\n",
       "      <td>538011.122800</td>\n",
       "    </tr>\n",
       "    <tr>\n",
       "      <th>75%</th>\n",
       "      <td>2016.75000</td>\n",
       "      <td>179438.500000</td>\n",
       "      <td>572794.938450</td>\n",
       "    </tr>\n",
       "    <tr>\n",
       "      <th>max</th>\n",
       "      <td>2019.00000</td>\n",
       "      <td>196867.000000</td>\n",
       "      <td>683338.436900</td>\n",
       "    </tr>\n",
       "  </tbody>\n",
       "</table>\n",
       "</div>"
      ],
      "text/plain": [
       "             Year  Advertising_Expenditure          Sales\n",
       "count    10.00000                10.000000      10.000000\n",
       "mean   2014.50000            162704.600000  518031.216000\n",
       "std       3.02765             26554.151516  112669.263875\n",
       "min    2010.00000            104886.000000  272485.681600\n",
       "25%    2012.25000            155337.500000  481734.070800\n",
       "50%    2014.50000            166303.000000  538011.122800\n",
       "75%    2016.75000            179438.500000  572794.938450\n",
       "max    2019.00000            196867.000000  683338.436900"
      ]
     },
     "execution_count": 5,
     "metadata": {},
     "output_type": "execute_result"
    }
   ],
   "source": [
    "#Descriptive statistics\n",
    "print('Descriptive Statistis:')\n",
    "data.describe()"
   ]
  },
  {
   "cell_type": "code",
   "execution_count": 6,
   "id": "5756ed43-df9f-4307-a0dc-81e11809e385",
   "metadata": {},
   "outputs": [
    {
     "name": "stdout",
     "output_type": "stream",
     "text": [
      "Correlation matrix:\n",
      "                             Year  Advertising_Expenditure     Sales\n",
      "Year                     1.000000                -0.433733 -0.087972\n",
      "Advertising_Expenditure -0.433733                 1.000000  0.873109\n",
      "Sales                   -0.087972                 0.873109  1.000000\n"
     ]
    }
   ],
   "source": [
    "#correlation\n",
    "print('Correlation matrix:')\n",
    "data_corr = data.corr()\n",
    "print(data_corr)"
   ]
  },
  {
   "cell_type": "code",
   "execution_count": 7,
   "id": "cb565cbe-0c4d-4dc3-b23b-fa21ec20f2d8",
   "metadata": {},
   "outputs": [
    {
     "data": {
      "image/png": "[encoded data removed]",
      "text/plain": [
       "<Figure size 640x480 with 2 Axes>"
      ]
     },
     "metadata": {},
     "output_type": "display_data"
    }
   ],
   "source": [
    "#correlations heatmap\n",
    "sns.heatmap(data_corr, annot = True, cmap = 'crest')\n",
    "plt.title('Correlation heatmap')\n",
    "plt.show()\n"
   ]
  },
  {
   "cell_type": "code",
   "execution_count": 8,
   "id": "174a3aaf-ec67-4387-9cfc-eaa3c4ab6db3",
   "metadata": {},
   "outputs": [
    {
     "data": {
      "image/png": "[encoded data removed]",
      "text/plain": [
       "<Figure size 640x480 with 1 Axes>"
      ]
     },
     "metadata": {},
     "output_type": "display_data"
    }
   ],
   "source": [
    "plt.scatter(data['Advertising_Expenditure'], data['Sales'])\n",
    "plt.title('Relationship between sales and advertising')\n",
    "plt.xlabel('Advertising Expense')\n",
    "plt.ylabel('Sales')\n",
    "plt.show()"
   ]
  },
  {
   "cell_type": "code",
   "execution_count": 9,
   "id": "3ed88f3d-c58b-4b84-a76b-7b4f7e558910",
   "metadata": {},
   "outputs": [],
   "source": [
    "advertising = data['Advertising_Expenditure']\n",
    "sales = data['Sales']"
   ]
  },
  {
   "cell_type": "code",
   "execution_count": 10,
   "id": "dab8a0d2-b063-4573-b822-bec8541c6566",
   "metadata": {},
   "outputs": [],
   "source": [
    "advertising_train, advertising_test, sales_train, sales_test = train_test_split(advertising, sales, test_size = .2, random_state = 45)"
   ]
  },
  {
   "cell_type": "code",
   "execution_count": 13,
   "id": "6711349b-abeb-4bbc-ae37-6d41547fc632",
   "metadata": {},
   "outputs": [],
   "source": [
    "#adding constant to the independent variable\n",
    "advertising_constant = sm.add_constant(advertising)"
   ]
  },
  {
   "cell_type": "code",
   "execution_count": 14,
   "id": "a9d70c5d-a087-499e-9b25-47612401ba49",
   "metadata": {},
   "outputs": [
    {
     "name": "stdout",
     "output_type": "stream",
     "text": [
      "                            OLS Regression Results                            \n",
      "==============================================================================\n",
      "Dep. Variable:                  Sales   R-squared:                       0.762\n",
      "Model:                            OLS   Adj. R-squared:                  0.733\n",
      "Method:                 Least Squares   F-statistic:                     25.66\n",
      "Date:                Fri, 25 Apr 2025   Prob (F-statistic):           0.000970\n",
      "Time:                        21:12:25   Log-Likelihood:                -122.80\n",
      "No. Observations:                  10   AIC:                             249.6\n",
      "Df Residuals:                       8   BIC:                             250.2\n",
      "Df Model:                           1                                         \n",
      "Covariance Type:            nonrobust                                         \n",
      "===========================================================================================\n",
      "                              coef    std err          t      P>|t|      [0.025      0.975]\n",
      "-------------------------------------------------------------------------------------------\n",
      "const                   -8.472e+04    1.2e+05     -0.704      0.502   -3.62e+05    1.93e+05\n",
      "Advertising_Expenditure     3.7046      0.731      5.065      0.001       2.018       5.391\n",
      "==============================================================================\n",
      "Omnibus:                        1.512   Durbin-Watson:                   1.862\n",
      "Prob(Omnibus):                  0.470   Jarque-Bera (JB):                0.788\n",
      "Skew:                          -0.223   Prob(JB):                        0.674\n",
      "Kurtosis:                       1.699   Cond. No.                     1.08e+06\n",
      "==============================================================================\n",
      "\n",
      "Notes:\n",
      "[1] Standard Errors assume that the covariance matrix of the errors is correctly specified.\n",
      "[2] The condition number is large, 1.08e+06. This might indicate that there are\n",
      "strong multicollinearity or other numerical problems.\n"
     ]
    },
    {
     "name": "stderr",
     "output_type": "stream",
     "text": [
      "c:\\users\\cmoradajr\\appdata\\local\\programs\\python\\python39\\lib\\site-packages\\scipy\\stats\\_axis_nan_policy.py:531: UserWarning: kurtosistest only valid for n>=20 ... continuing anyway, n=10\n",
      "  res = hypotest_fun_out(*samples, **kwds)\n"
     ]
    }
   ],
   "source": [
    "#fiting the model\n",
    "model = sm.OLS(sales, advertising_constant).fit()\n",
    "print(model.summary())"
   ]
  }
 ],
 "metadata": {
  "kernelspec": {
   "display_name": "Python 3 (ipykernel)",
   "language": "python",
   "name": "python3"
  },
  "language_info": {
   "codemirror_mode": {
    "name": "ipython",
    "version": 3
   },
   "file_extension": ".py",
   "mimetype": "text/x-python",
   "name": "python",
   "nbconvert_exporter": "python",
   "pygments_lexer": "ipython3",
   "version": "3.9.7"
  }
 },
 "nbformat": 4,
 "nbformat_minor": 5
}
